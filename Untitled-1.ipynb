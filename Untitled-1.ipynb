{
 "cells": [
  {
   "cell_type": "code",
   "execution_count": null,
   "metadata": {},
   "outputs": [
    {
     "name": "stdout",
     "output_type": "stream",
     "text": [
      "\n",
      " student information:\n",
      "vcfxz,654321\n",
      ",kmnb,76543\n"
     ]
    }
   ],
   "source": [
    "names = []\n",
    "IDs = []\n",
    "\n",
    "while True:\n",
    "    name= input(\"enter your name\")\n",
    "    id = int(input(\"enter your id:\"))\n",
    "    names.append(name)\n",
    "    IDs.append(id)\n",
    "    x= input(\"if you dont want to add more enter y\")\n",
    "    if x!='y':\n",
    "        print(\"\\n student information:\")\n",
    "        for i in range(len(names)):\n",
    "            print(f\"{names[i]},{IDs[i]}\")\n",
    "        break     \n",
    "    else:\n",
    "        continue\n",
    "\n",
    "    "
   ]
  }
 ],
 "metadata": {
  "kernelspec": {
   "display_name": "Python 3.11.5 ('base')",
   "language": "python",
   "name": "python3"
  },
  "language_info": {
   "codemirror_mode": {
    "name": "ipython",
    "version": 3
   },
   "file_extension": ".py",
   "mimetype": "text/x-python",
   "name": "python",
   "nbconvert_exporter": "python",
   "pygments_lexer": "ipython3",
   "version": "3.11.5"
  },
  "orig_nbformat": 4,
  "vscode": {
   "interpreter": {
    "hash": "a684ab15d84743430f73d502d7da2424aed6cfdf47a9001020d180342a428400"
   }
  }
 },
 "nbformat": 4,
 "nbformat_minor": 2
}
